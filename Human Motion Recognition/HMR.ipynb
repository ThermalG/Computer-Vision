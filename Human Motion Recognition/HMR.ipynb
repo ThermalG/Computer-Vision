{
 "nbformat": 4,
 "nbformat_minor": 0,
 "metadata": {
  "colab": {
   "name": "Human Activity Recognition",
   "provenance": [],
   "collapsed_sections": []
  },
  "kernelspec": {
   "name": "python3",
   "language": "python",
   "display_name": "Python 3 (ipykernel)"
  }
 },
 "cells": [
  {
   "cell_type": "markdown",
   "metadata": {
    "id": "hzWLuhG3EI6R"
   },
   "source": [
    "<center><h1>McGill University ECSE 444 Microprocessor</h1>\n",
    "<h2>Final Project - Human Motion Recognition (HMR)</h2></center>\n",
    "\n",
    "&nbsp;\n",
    "## I - Load Dataset\n",
    "with TensorFlow 2.14.0, X-CUBE-AI v8.1.0"
   ]
  },
  {
   "cell_type": "code",
   "execution_count": 6,
   "outputs": [],
   "source": [
    "# @version      0.8\n",
    "# @author       A. Wei, A. Xu, F. Zhang, Z. Zhang\n",
    "# @description  A CNN-based model training algorithm designed for HMR, used to classify data from I2C accelerometers\n",
    "\n",
    "import os\n",
    "import glob\n",
    "import chardet\n",
    "import numpy as np\n",
    "import pandas as pd\n",
    "import keras.layers as layers\n",
    "import keras.utils as utils\n",
    "from keras.models import Sequential\n",
    "import matplotlib.pyplot as plt\n",
    "from sklearn.model_selection import train_test_split\n",
    "from sklearn.metrics import accuracy_score, confusion_matrix"
   ],
   "metadata": {
    "collapsed": false,
    "ExecuteTime": {
     "end_time": "2023-12-03T22:49:20.826541Z",
     "start_time": "2023-12-03T22:49:20.807513Z"
    }
   }
  },
  {
   "cell_type": "code",
   "execution_count": 7,
   "outputs": [],
   "source": [
    "PATH = './olympics'\n",
    "states = [i for i in os.listdir(PATH) if os.path.isdir(os.path.join(PATH, i))]\n",
    "# if statement ensures only folders are selected (macOS creates these .DS_Store)\n",
    "NUM_STATE = len(states)\n",
    "\n",
    "for subdir in os.listdir(PATH):\n",
    "    sub = os.path.join(PATH, subdir)\n",
    "    if os.path.isdir(sub):\n",
    "        for file in os.listdir(sub):\n",
    "            if file.endswith('.csv'):\n",
    "                file_path = os.path.join(sub, file)\n",
    "                # unify encoding to us-ascii\n",
    "                with open(file_path, 'rb') as f:\n",
    "                    result = chardet.detect(f.read())\n",
    "                df = pd.read_csv(file_path, encoding = result['encoding'])\n",
    "                # remove invalid rows\n",
    "                df.dropna(subset = [df.columns[1], df.columns[2]], inplace = True, how = 'any')\n",
    "                df.to_csv(file_path, encoding = 'ascii', index = False, errors = 'replace')\n",
    "\n",
    "label, files, data, = [], [], []\n",
    "for lbl, state in enumerate(states):\n",
    "    for file in glob.glob(f'olympics/{state}/*.csv'):\n",
    "        label.append(lbl)\n",
    "        files.append(file)\n",
    "        data.append(np.loadtxt(file, delimiter = ',').reshape(-1, 3).astype(np.int16))  # data range [-4000, 4000]\n",
    "label = np.array(label)\n",
    "label_1hot = utils.to_categorical(label, num_classes = NUM_STATE)\n",
    "# print(data.shape)"
   ],
   "metadata": {
    "collapsed": false,
    "ExecuteTime": {
     "end_time": "2023-12-03T22:49:22.740750Z",
     "start_time": "2023-12-03T22:49:20.817710Z"
    }
   }
  },
  {
   "cell_type": "markdown",
   "source": [
    "&nbsp;\n",
    "## II - Ready the Frames\n",
    "a simple standardization should suffice for this project"
   ],
   "metadata": {
    "collapsed": false
   }
  },
  {
   "cell_type": "code",
   "execution_count": 8,
   "outputs": [],
   "source": [
    "# 1 frame represents 1 second, with conventional 50% overlap\n",
    "FRAME_LEN, HOP = 26, 13\n",
    "\n",
    "# each recording captured into smaller frames (input for CNN later)\n",
    "lbl_frame, data_frame = [], []\n",
    "for file in range(len(data)):\n",
    "    num_frame = (data[file].shape[0] - FRAME_LEN) // HOP + 1\n",
    "    if num_frame > 0:\n",
    "        shape = (num_frame, FRAME_LEN, 3)\n",
    "        stride = ((HOP * data[file].strides[0],) + data[file].strides)\n",
    "        frame = np.lib.stride_tricks.as_strided(data[file], shape = shape, strides = stride)\n",
    "        data_frame.append(frame)\n",
    "        lbl_frame.append(np.full((frame.shape[0], NUM_STATE), label_1hot[file]))\n",
    "\n",
    "lbl_frame, data_frame = np.concatenate(lbl_frame), np.concatenate(data_frame)\n",
    "# print(data_frame.shape)\n",
    "# print(lbl_frame.shape)\n",
    "\n",
    "# input normalized & shuffled (default)\n",
    "data_trn, data_tst, lbl_trn, lbl_tst = train_test_split(data_frame / 4000, lbl_frame, test_size = 0.2) # REFERENCE [1]"
   ],
   "metadata": {
    "collapsed": false,
    "ExecuteTime": {
     "end_time": "2023-12-03T22:49:22.760315Z",
     "start_time": "2023-12-03T22:49:22.741059Z"
    }
   }
  },
  {
   "cell_type": "markdown",
   "source": [
    "&nbsp;\n",
    "## III - Training\n",
    "creating a classifier with Keras"
   ],
   "metadata": {
    "collapsed": false
   }
  },
  {
   "cell_type": "code",
   "execution_count": 9,
   "outputs": [
    {
     "name": "stdout",
     "output_type": "stream",
     "text": [
      "Epoch 1/15\n",
      "246/246 [==============================] - 2s 5ms/step - loss: 0.0607 - acc: 0.7984\n",
      "Epoch 2/15\n",
      "246/246 [==============================] - 1s 5ms/step - loss: 0.0266 - acc: 0.9016\n",
      "Epoch 3/15\n",
      "246/246 [==============================] - 1s 5ms/step - loss: 0.0198 - acc: 0.9207\n",
      "Epoch 4/15\n",
      "246/246 [==============================] - 1s 5ms/step - loss: 0.0162 - acc: 0.9381\n",
      "Epoch 5/15\n",
      "246/246 [==============================] - 1s 5ms/step - loss: 0.0138 - acc: 0.9460\n",
      "Epoch 6/15\n",
      "246/246 [==============================] - 1s 5ms/step - loss: 0.0115 - acc: 0.9570\n",
      "Epoch 7/15\n",
      "246/246 [==============================] - 1s 5ms/step - loss: 0.0106 - acc: 0.9582\n",
      "Epoch 8/15\n",
      "246/246 [==============================] - 1s 5ms/step - loss: 0.0100 - acc: 0.9654\n",
      "Epoch 9/15\n",
      "246/246 [==============================] - 1s 5ms/step - loss: 0.0087 - acc: 0.9663\n",
      "Epoch 10/15\n",
      "246/246 [==============================] - 1s 5ms/step - loss: 0.0089 - acc: 0.9677\n",
      "Epoch 11/15\n",
      "246/246 [==============================] - 1s 5ms/step - loss: 0.0082 - acc: 0.9692\n",
      "Epoch 12/15\n",
      "246/246 [==============================] - 1s 5ms/step - loss: 0.0068 - acc: 0.9718\n",
      "Epoch 13/15\n",
      "246/246 [==============================] - 1s 5ms/step - loss: 0.0066 - acc: 0.9746\n",
      "Epoch 14/15\n",
      "246/246 [==============================] - 1s 5ms/step - loss: 0.0074 - acc: 0.9718\n",
      "Epoch 15/15\n",
      "246/246 [==============================] - 1s 5ms/step - loss: 0.0068 - acc: 0.9722\n",
      "Total Runtime: 17.95s\n"
     ]
    }
   ],
   "source": [
    "%%time\n",
    "model = Sequential([    # REFERENCE [1]\n",
    "    layers.Conv1D(filters = 64, kernel_size = 5, input_shape = (26, 3)),\n",
    "    layers.BatchNormalization(),\n",
    "    layers.Activation('relu'),\n",
    "    layers.Conv1D(filters = 32, kernel_size = 5),\n",
    "    layers.BatchNormalization(),\n",
    "    layers.Activation('relu'),\n",
    "    layers.Dropout(0.25),\n",
    "    layers.Flatten(),\n",
    "    layers.Dense(64),\n",
    "    layers.BatchNormalization(),\n",
    "    layers.Activation('relu'),\n",
    "    layers.Dense(NUM_STATE, activation = 'softmax')\n",
    "])\n",
    "\n",
    "# use focal loss due to the imbalanced nature of our dataset\n",
    "model.compile(loss = 'categorical_focal_crossentropy', optimizer = 'RMSprop', metrics = ['acc'])\n",
    "model.fit(data_trn, lbl_trn, epochs = 15)"
   ],
   "metadata": {
    "collapsed": false,
    "ExecuteTime": {
     "end_time": "2023-12-03T22:49:40.853167Z",
     "start_time": "2023-12-03T22:49:22.772520Z"
    }
   }
  },
  {
   "cell_type": "markdown",
   "source": [
    "&nbsp;\n",
    "## IV - Deliver"
   ],
   "metadata": {
    "collapsed": false
   }
  },
  {
   "cell_type": "code",
   "metadata": {
    "id": "ESYZJveHbAEV",
    "colab": {
     "base_uri": "https://localhost:8080/",
     "height": 311
    },
    "outputId": "efdd9e72-a65a-4a5f-f206-ff852d2155a8",
    "ExecuteTime": {
     "end_time": "2023-12-03T22:49:41.405492Z",
     "start_time": "2023-12-03T22:49:40.859561Z"
    }
   },
   "source": [
    "pred = np.argmax(model.predict(data_tst), axis = 1)\n",
    "truth = np.argmax(lbl_tst, axis = 1)\n",
    "ct = confusion_matrix(truth, pred)\n",
    "\n",
    "# visual accuracies\n",
    "plt.figure(figsize = (6, 6))\n",
    "plt.imshow(ct, cmap = plt.cm.Purples)\n",
    "plt.grid(False)\n",
    "# ignore cbar saturation since the dataset is imbalanced\n",
    "plt.xticks(np.arange(NUM_STATE), states, rotation = 45)\n",
    "plt.yticks(np.arange(NUM_STATE), states)\n",
    "plt.xlabel('PREDICTED', weight = 'bold', fontsize = 18)\n",
    "plt.ylabel('ACTUAL', weight = 'bold', fontsize = 18)\n",
    "for i in range(ct.shape[0]):  # display number of occurrence in cells\n",
    "    for j in range(ct.shape[1]):\n",
    "        plt.text(j, i, ct[i, j], fontsize = 16,\n",
    "                 horizontalalignment = \"center\",\n",
    "                 verticalalignment = \"center\",\n",
    "                 # guarantee contrast for visibility. REFERENCE [3]\n",
    "                 color = \"w\" if ct[i, j] > ct.max() / 2 else \"k\")\n",
    "plt.tight_layout()\n",
    "plt.show()\n",
    "\n",
    "# numerical accuracies (individual & overall)\n",
    "print(f\"Accuracy-OVERALL: {accuracy_score(truth, pred) * 100:.1f}%\")\n",
    "print()\n",
    "for lbl in range(NUM_STATE):\n",
    "    msk = truth == lbl\n",
    "    print(f\"Accuracy-{states[lbl]}: {accuracy_score(truth[msk], pred[msk]) * 100:.2f}%\")\n",
    "\n",
    "model.save('HMR.h5')    # auto overwrite to current directory"
   ],
   "execution_count": 10,
   "outputs": [
    {
     "name": "stdout",
     "output_type": "stream",
     "text": [
      "62/62 [==============================] - 0s 2ms/step\n"
     ]
    },
    {
     "data": {
      "text/plain": "<Figure size 600x600 with 1 Axes>",
      "image/png": "[encoded data removed]"
     },
     "metadata": {},
     "output_type": "display_data"
    },
    {
     "name": "stdout",
     "output_type": "stream",
     "text": [
      "Accuracy-OVERALL: 98.7%\n",
      "Accuracy-RUNNING: 100.00%\n",
      "Accuracy-BREASTSTROKE: 98.32%\n",
      "Accuracy-WALKING: 97.87%\n",
      "Accuracy-JUMPING: 98.42%\n",
      "Accuracy-CLAPPING: 100.00%\n",
      "Accuracy-STILL: 99.01%\n"
     ]
    },
    {
     "name": "stderr",
     "output_type": "stream",
     "text": [
      "/Library/Frameworks/Python.framework/Versions/3.11/lib/python3.11/site-packages/keras/src/engine/training.py:3103: UserWarning: You are saving your model as an HDF5 file via `model.save()`. This file format is considered legacy. We recommend using instead the native Keras format, e.g. `model.save('my_model.keras')`.\n",
      "  saving_api.save_model(\n"
     ]
    }
   ]
  },
  {
   "cell_type": "markdown",
   "source": [
    "&nbsp;\n",
    "## References\n",
    "1. **stm32ai-wiki: git repo to illustrates and supports the STM32 AI wiki articles.** (n.d. -b). GitHub.\n",
    "    - [STMicroelectronics](https://github.com/STMicroelectronics/stm32ai-wiki/tree/master)\n",
    "    - (accessed Nov. 8th, 2023)\n",
    "2. Jaén-Vargas, M., Leiva, K. M. R., Fernandes, F., Gonçalves, S. B., Silva, M. T., Lopes, D. S., & Olmedo, J. J. S. (2022). Effects of sliding window variation in the performance of acceleration-based human activity recognition using deep learning models. PeerJ Computer Science, 8, e1052.\n",
    "3. **How change the color of boxes in confusion matrix using sklearn?** (n.d.). StackOverflow.\n",
    "    - [Stack Overflow](https://stackoverflow.com/questions/57043260/how-change-the-color-of-boxes-in-confusion-matrix-using-sklearn)\n",
    "    - (accessed Nov. 12th, 2023)"
   ],
   "metadata": {
    "collapsed": false
   }
  }
 ]
}
